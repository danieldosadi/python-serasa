{
  "nbformat": 4,
  "nbformat_minor": 0,
  "metadata": {
    "colab": {
      "provenance": [],
      "authorship_tag": "ABX9TyP332Pe4O4w28cdXBiI7Bo7",
      "include_colab_link": true
    },
    "kernelspec": {
      "name": "python3",
      "display_name": "Python 3"
    },
    "language_info": {
      "name": "python"
    }
  },
  "cells": [
    {
      "cell_type": "markdown",
      "metadata": {
        "id": "view-in-github",
        "colab_type": "text"
      },
      "source": [
        "<a href=\"https://colab.research.google.com/github/danieldosadi/python-serasa/blob/main/2023_06_28_ATIVIDADE_01.ipynb\" target=\"_parent\"><img src=\"https://colab.research.google.com/assets/colab-badge.svg\" alt=\"Open In Colab\"/></a>"
      ]
    },
    {
      "cell_type": "code",
      "execution_count": 1,
      "metadata": {
        "colab": {
          "base_uri": "https://localhost:8080/"
        },
        "id": "wLOvdQqLRpow",
        "outputId": "5676e54f-dbb3-4b16-ee8e-94eeeacad680"
      },
      "outputs": [
        {
          "output_type": "stream",
          "name": "stdout",
          "text": [
            "2\n",
            "4\n",
            "6\n",
            "8\n",
            "10\n"
          ]
        }
      ],
      "source": [
        "# Exercicio 1: Cria uma lista de números inteiros e exiba todos os números pares dessa lista.\n",
        "\n",
        "numeros = [1, 2, 3, 4, 5, 6, 7, 8, 9, 10]\n",
        "\n",
        "for numero in numeros:\n",
        "  if numero % 2 == 0:\n",
        "    print(numero)"
      ]
    },
    {
      "cell_type": "code",
      "source": [
        "# Exercicio 2: Solicita ao usuário que digite várias palavras e armazene-as em uma lista. Em seguida, exiba a lista ordenada em ordem alfabética.\n",
        "\n",
        "palavras = []\n",
        "\n",
        "while True:\n",
        "  palavra = input(\"Digite uma palavra (digite 'sair' para encerrar): \")\n",
        "  if palavra.lower() == \"sair\":\n",
        "    break\n",
        "  palavras.append(palavra)\n",
        "\n",
        "palavras.sort()\n",
        "\n",
        "print(\"Palavras em ordem alfabética:\")\n",
        "for palavra in palavras:\n",
        "  print(palavra)"
      ],
      "metadata": {
        "id": "eKoVUibwR77n"
      },
      "execution_count": null,
      "outputs": []
    },
    {
      "cell_type": "code",
      "source": [
        "# Exercício 3: Cria uma lista de números inteiros e calcula a soma de todos os elementos dessa lista.\n",
        "numeros = [5, 18, 11, 32, 9]\n",
        "\n",
        "soma = sum(numeros)\n",
        "\n",
        "print(\"A soma dos números é\", soma)"
      ],
      "metadata": {
        "colab": {
          "base_uri": "https://localhost:8080/"
        },
        "id": "ghtwuS1jSGw_",
        "outputId": "2768e8c2-87bb-46c3-a4e4-8108b541e149"
      },
      "execution_count": 6,
      "outputs": [
        {
          "output_type": "stream",
          "name": "stdout",
          "text": [
            "A soma dos números é 75\n"
          ]
        }
      ]
    },
    {
      "cell_type": "code",
      "source": [
        "# Exercício 4: Cria uma lista de nomes de cores (\"vermelho\", \"verde\", \"azul\", etc) e solicita ao usuário que digite um nome de cor. O programa deve verificar se o nome de cor digitado está presente e exibir uma mensagem adequada.\n",
        "cores = [\"vermelho\", \"verde\", \"azul\", \"amarelo\"]\n",
        "\n",
        "cor_digitada = input(\"Digite um nome de cor: \")\n",
        "\n",
        "if cor_digitada.lower() in cores:\n",
        "    print(\"A cor\", cor_digitada, \"está presente na lista.\")\n",
        "else:\n",
        "    print(\"A cor\", cor_digitada, \"não está presente na lista.\")"
      ],
      "metadata": {
        "colab": {
          "base_uri": "https://localhost:8080/"
        },
        "id": "tVcN8rdZSNGo",
        "outputId": "66cf6760-3dea-4700-ae9e-c436ab8207d6"
      },
      "execution_count": 7,
      "outputs": [
        {
          "output_type": "stream",
          "name": "stdout",
          "text": [
            "Digite um nome de cor: Azul\n",
            "A cor Azul está presente na lista.\n"
          ]
        }
      ]
    },
    {
      "cell_type": "code",
      "source": [
        "# Exercício 5: Função: chamada \"encontrar_maior\" que recebe uma lista de números inteiros como parâmetro e retorna o maior número da lista.\n",
        "def encontrar_maior(lista):\n",
        "    if len(lista) == 0:\n",
        "        return None\n",
        "\n",
        "    maior = lista[0]\n",
        "\n",
        "    for numero in lista:\n",
        "        if numero > maior:\n",
        "            maior = numero\n",
        "\n",
        "    return maior\n",
        "\n",
        "numeros = [28, 9, 16, 37, 41]\n",
        "maior_numero = encontrar_maior(numeros)\n",
        "print(\"O maior número da lista é:\", maior_numero)"
      ],
      "metadata": {
        "colab": {
          "base_uri": "https://localhost:8080/"
        },
        "id": "8gMO22dFSfN8",
        "outputId": "60543615-18de-41bf-ba1b-87e3dfae60f1"
      },
      "execution_count": 9,
      "outputs": [
        {
          "output_type": "stream",
          "name": "stdout",
          "text": [
            "O maior número da lista é: 41\n"
          ]
        }
      ]
    },
    {
      "cell_type": "code",
      "source": [
        "# Exercício 6: Cria uma lista de números inteiros e remove todos os números repetidos da lista, mantendo apenas uma ocorrência de cada número.\n",
        "\n",
        "numeros = [8, 10, 5, 12, 8, 6, 5, 18, 1, 5, 18]\n",
        "\n",
        "numeros_sem_repeticao = list(set(numeros))\n",
        "\n",
        "print(\"Lista sem números repetidos:\", numeros_sem_repeticao)"
      ],
      "metadata": {
        "colab": {
          "base_uri": "https://localhost:8080/"
        },
        "id": "1qxKWZGzSqGg",
        "outputId": "472a21fd-22f4-43d5-a793-f3ca5db04f26"
      },
      "execution_count": 11,
      "outputs": [
        {
          "output_type": "stream",
          "name": "stdout",
          "text": [
            "Lista sem números repetidos: [1, 5, 6, 8, 10, 12, 18]\n"
          ]
        }
      ]
    },
    {
      "cell_type": "code",
      "source": [
        "# Exercício 7: Cria uma lista de números inteiros e inverte a ordem dos elementos na lista.\n",
        "\n",
        "numeros = [5, 10, 15, 20, 25]\n",
        "\n",
        "numeros.reverse()\n",
        "\n",
        "print(\"Lista invertida:\", numeros)"
      ],
      "metadata": {
        "colab": {
          "base_uri": "https://localhost:8080/"
        },
        "id": "1Jku0IxTSvaJ",
        "outputId": "365e14f8-73ca-40d6-8d1a-f19480813482"
      },
      "execution_count": 12,
      "outputs": [
        {
          "output_type": "stream",
          "name": "stdout",
          "text": [
            "Lista invertida: [25, 20, 15, 10, 5]\n"
          ]
        }
      ]
    },
    {
      "cell_type": "code",
      "source": [
        "# Exercício 8: Função: chamada \"contar_ocorrencias\" que recebe uma lista e um elemento como parâmetros e conta quantas vezes o elemento ocorre na lista.\n",
        "\n",
        "def contar_ocorrencias(lista, elemento):\n",
        "    contador = 0\n",
        "    for item in lista:\n",
        "        if item == elemento:\n",
        "            contador += 1\n",
        "    return contador\n",
        "\n",
        "numeros = [1, 2, 3, 2, 4, 2, 5, 2]\n",
        "elemento = 2\n",
        "ocorrencias = contar_ocorrencias(numeros, elemento)\n",
        "print(\"O elemento\", elemento, \"ocorre\", ocorrencias, \"vezes na lista.\")\n"
      ],
      "metadata": {
        "colab": {
          "base_uri": "https://localhost:8080/"
        },
        "id": "zKwSxfq6S1FF",
        "outputId": "1d63f243-e172-4172-ec5b-28f098ac3e04"
      },
      "execution_count": 13,
      "outputs": [
        {
          "output_type": "stream",
          "name": "stdout",
          "text": [
            "O elemento 2 ocorre 4 vezes na lista.\n"
          ]
        }
      ]
    },
    {
      "cell_type": "code",
      "source": [
        "# Exercício 9: Cria uma lista de nomes e remove todos os nomes que começam com a letra \"A\".\n",
        "\n",
        "nomes = [\"Anderson\", \"Adriano\", \"José\", \"Lucas\", \"Daniel\", \"Abrão\"]\n",
        "\n",
        "novos_nomes = []\n",
        "\n",
        "for nome in nomes:\n",
        "    if not nome.startswith(\"A\"):\n",
        "        novos_nomes.append(nome)\n",
        "\n",
        "print(\"Lista de nomes não começam com 'A':\")\n",
        "for nome in novos_nomes:\n",
        "    print(nome)\n"
      ],
      "metadata": {
        "colab": {
          "base_uri": "https://localhost:8080/"
        },
        "id": "M1_De0hzS6A2",
        "outputId": "9b0eb62e-8380-491f-81b7-ed08ed60cecb"
      },
      "execution_count": 14,
      "outputs": [
        {
          "output_type": "stream",
          "name": "stdout",
          "text": [
            "Lista de nomes não começam com 'A':\n",
            "José\n",
            "Lucas\n",
            "Daniel\n"
          ]
        }
      ]
    },
    {
      "cell_type": "code",
      "source": [
        "# Exercício 10: cria uma lista de números inteiros e encontra o segundo menor número da lista.\n",
        "\n",
        "numeros = [12, 8, 6, 18, 9, 20, 25]\n",
        "\n",
        "numeros_ordenados = sorted(numeros)\n",
        "\n",
        "segundo_menor = numeros_ordenados[1]\n",
        "\n",
        "print(\"O segundo menor número é:\", segundo_menor)"
      ],
      "metadata": {
        "colab": {
          "base_uri": "https://localhost:8080/"
        },
        "id": "jX4QTXVETAnn",
        "outputId": "43557535-a8a5-4a70-8ee7-80c1d49b8ff8"
      },
      "execution_count": 18,
      "outputs": [
        {
          "output_type": "stream",
          "name": "stdout",
          "text": [
            "O segundo menor número é: 8\n"
          ]
        }
      ]
    }
  ]
}