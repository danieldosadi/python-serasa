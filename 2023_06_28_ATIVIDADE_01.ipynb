{
  "nbformat": 4,
  "nbformat_minor": 0,
  "metadata": {
    "colab": {
      "provenance": [],
      "authorship_tag": "ABX9TyNljvAJ4JEy2aAikkH6nw+1",
      "include_colab_link": true
    },
    "kernelspec": {
      "name": "python3",
      "display_name": "Python 3"
    },
    "language_info": {
      "name": "python"
    }
  },
  "cells": [
    {
      "cell_type": "markdown",
      "metadata": {
        "id": "view-in-github",
        "colab_type": "text"
      },
      "source": [
        "<a href=\"https://colab.research.google.com/github/danieldosadi/python-serasa/blob/main/2023_06_28_ATIVIDADE_01.ipynb\" target=\"_parent\"><img src=\"https://colab.research.google.com/assets/colab-badge.svg\" alt=\"Open In Colab\"/></a>"
      ]
    },
    {
      "cell_type": "code",
      "execution_count": null,
      "metadata": {
        "id": "wLOvdQqLRpow"
      },
      "outputs": [],
      "source": [
        "# Exercicio 1: Cria uma lista de números inteiros e exiba todos os números pares dessa lista."
      ]
    },
    {
      "cell_type": "code",
      "source": [
        "# Exercicio 2: Solicita ao usuário que digite várias palavras e armazene-as em uma lista. Em seguida, exiba a lista ordenada em ordem alfabética."
      ],
      "metadata": {
        "id": "eKoVUibwR77n"
      },
      "execution_count": null,
      "outputs": []
    },
    {
      "cell_type": "code",
      "source": [
        "# Exercício 3: Cria uma lista de números inteiros e calcula a soma de todos os elementos dessa lista."
      ],
      "metadata": {
        "id": "ghtwuS1jSGw_"
      },
      "execution_count": null,
      "outputs": []
    },
    {
      "cell_type": "code",
      "source": [
        "# Exercício 4: Cria uma lista de nomes de cores (\"vermelho\", \"verde\", \"azul\", etc) e solicita ao usuário que digite um nome de cor. O programa deve verificar se o nome de cor digitado está presente e exibir uma mensagem adequada."
      ],
      "metadata": {
        "id": "tVcN8rdZSNGo"
      },
      "execution_count": null,
      "outputs": []
    },
    {
      "cell_type": "code",
      "source": [
        "# Exercício 5: Função: chamada \"encontrar_maior\" que recebe uma lista de números inteiros como parâmetro e retorna o maior número da lista."
      ],
      "metadata": {
        "id": "8gMO22dFSfN8"
      },
      "execution_count": null,
      "outputs": []
    },
    {
      "cell_type": "code",
      "source": [
        "# Exercício 6: Cria uma lista de números inteiros e remove todos os números repetidos da lista, mantendo apenas uma ocorrência de cada número."
      ],
      "metadata": {
        "id": "1qxKWZGzSqGg"
      },
      "execution_count": null,
      "outputs": []
    },
    {
      "cell_type": "code",
      "source": [
        "# Exercício 7: Cria uma lista de números inteiros e inverte a ordem dos elementos na lista."
      ],
      "metadata": {
        "id": "1Jku0IxTSvaJ"
      },
      "execution_count": null,
      "outputs": []
    },
    {
      "cell_type": "code",
      "source": [
        "# Exercício 8: Função: chamada \"contar_ocorrencias\" que recebe uma lista e um elemento como parâmetros e conta quantas vezes o elemento ocorre na lista."
      ],
      "metadata": {
        "id": "zKwSxfq6S1FF"
      },
      "execution_count": null,
      "outputs": []
    },
    {
      "cell_type": "code",
      "source": [
        "# Exercício 9: Cria uma lista de nomes e remove todos os nomes que começam com a letra \"A\"."
      ],
      "metadata": {
        "id": "M1_De0hzS6A2"
      },
      "execution_count": null,
      "outputs": []
    },
    {
      "cell_type": "code",
      "source": [
        "# Exercício 10: cria uma lista de números inteiros e encontra o segundo menor número da lista."
      ],
      "metadata": {
        "id": "jX4QTXVETAnn"
      },
      "execution_count": null,
      "outputs": []
    }
  ]
}