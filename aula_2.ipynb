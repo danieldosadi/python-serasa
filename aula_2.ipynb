{
  "nbformat": 4,
  "nbformat_minor": 0,
  "metadata": {
    "colab": {
      "provenance": [],
      "authorship_tag": "ABX9TyNg1nebUN2PLVfvUrr6Tjbd",
      "include_colab_link": true
    },
    "kernelspec": {
      "name": "python3",
      "display_name": "Python 3"
    },
    "language_info": {
      "name": "python"
    }
  },
  "cells": [
    {
      "cell_type": "markdown",
      "metadata": {
        "id": "view-in-github",
        "colab_type": "text"
      },
      "source": [
        "<a href=\"https://colab.research.google.com/github/danieldosadi/python-serasa/blob/main/aula_2.ipynb\" target=\"_parent\"><img src=\"https://colab.research.google.com/assets/colab-badge.svg\" alt=\"Open In Colab\"/></a>"
      ]
    },
    {
      "cell_type": "code",
      "execution_count": null,
      "metadata": {
        "colab": {
          "base_uri": "https://localhost:8080/"
        },
        "id": "f_YCzslmyKS8",
        "outputId": "51e4498c-702e-4299-abac-73e5fd5b3013"
      },
      "outputs": [
        {
          "output_type": "stream",
          "name": "stdout",
          "text": [
            "Digite o primeiro número: 54.1\n",
            "Digite o segundo número: 19.9\n",
            "Valor da soma é  74.0\n"
          ]
        }
      ],
      "source": [
        "# Exercício 1:\n",
        "# Solicite ao usuário que digite dois números e exiba a soma deles.\n",
        "\n",
        "primeiroNumero = float(input(\"Digite o primeiro número: \"))\n",
        "segundoNumero = float(input(\"Digite o segundo número: \"))\n",
        "\n",
        "soma = primeiroNumero + segundoNumero\n",
        "print(\"Valor da soma é \",soma)"
      ]
    },
    {
      "cell_type": "code",
      "source": [
        "# Solicite ao usuário que digite um número e exiba se ele é par ou ímpar\n",
        "\n",
        "numero = int(input(\"Digite um número: \"))\n",
        "\n",
        "if numero % 2 == 0:\n",
        "  print(\"Esse número é PAR.\")\n",
        "else:\n",
        "    print(\"Esse número é IMPAR.\")"
      ],
      "metadata": {
        "id": "54NIxZnAzI_1"
      },
      "execution_count": null,
      "outputs": []
    },
    {
      "cell_type": "code",
      "source": [
        "# Solicite ao usuário que digite uma temperatura em graus Celsius e converta-a para\n",
        "# A fórmula de conversão é: Fahremheit = Celsius * 9/5 + 32.\n",
        "\n",
        "celsius = int(input(\"Digite a temperatura em Celsius para converter: \"))\n",
        "fahrenheit = (celsius * 9/5) + 32\n",
        "print(\"%s Celsius é igual Fahrenheit %s\" % (celsius, int(fahrenheit)))"
      ],
      "metadata": {
        "colab": {
          "base_uri": "https://localhost:8080/"
        },
        "id": "MLK1v9E421su",
        "outputId": "782bfac0-f8b8-4c12-a3e6-75cd39adae20"
      },
      "execution_count": null,
      "outputs": [
        {
          "output_type": "stream",
          "name": "stdout",
          "text": [
            "Digite a temperatura em Celsius para converter: 28\n",
            "28 Celsius é igual Fahrenheit 82\n"
          ]
        }
      ]
    },
    {
      "cell_type": "code",
      "source": [
        "# Solicite ao usuário que digite uma palavra e exiba quantas letras essa palavra\n",
        "\n",
        "palavra = input(\"Digite uma palavra \")\n"
      ],
      "metadata": {
        "id": "mH6fNKqP6Jcm"
      },
      "execution_count": null,
      "outputs": []
    }
  ]
}