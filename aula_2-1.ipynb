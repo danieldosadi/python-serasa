{
  "nbformat": 4,
  "nbformat_minor": 0,
  "metadata": {
    "colab": {
      "provenance": [],
      "authorship_tag": "ABX9TyOQWnZDTG7Cg4KoiWvOZij0",
      "include_colab_link": true
    },
    "kernelspec": {
      "name": "python3",
      "display_name": "Python 3"
    },
    "language_info": {
      "name": "python"
    }
  },
  "cells": [
    {
      "cell_type": "markdown",
      "metadata": {
        "id": "view-in-github",
        "colab_type": "text"
      },
      "source": [
        "<a href=\"https://colab.research.google.com/github/danieldosadi/python-serasa/blob/main/aula_2-1.ipynb\" target=\"_parent\"><img src=\"https://colab.research.google.com/assets/colab-badge.svg\" alt=\"Open In Colab\"/></a>"
      ]
    },
    {
      "cell_type": "code",
      "execution_count": null,
      "metadata": {
        "colab": {
          "base_uri": "https://localhost:8080/"
        },
        "id": "f_YCzslmyKS8",
        "outputId": "51e4498c-702e-4299-abac-73e5fd5b3013"
      },
      "outputs": [
        {
          "output_type": "stream",
          "name": "stdout",
          "text": [
            "Digite o primeiro número: 54.1\n",
            "Digite o segundo número: 19.9\n",
            "Valor da soma é  74.0\n"
          ]
        }
      ],
      "source": [
        "# Exercício 1:\n",
        "# Solicite ao usuário que digite dois números e exiba a soma deles.\n",
        "\n",
        "primeiroNumero = float(input(\"Digite o primeiro número: \"))\n",
        "segundoNumero = float(input(\"Digite o segundo número: \"))\n",
        "\n",
        "soma = primeiroNumero + segundoNumero\n",
        "print(\"Valor da soma é \",soma)"
      ]
    },
    {
      "cell_type": "code",
      "source": [
        "# Solicite ao usuário que digite um número e exiba se ele é par ou ímpar\n",
        "\n",
        "numero = int(input(\"Digite um número: \"))\n",
        "\n",
        "if numero % 2 == 0:\n",
        "  print(\"Esse número é PAR.\")\n",
        "else:\n",
        "    print(\"Esse número é IMPAR.\")"
      ],
      "metadata": {
        "id": "54NIxZnAzI_1"
      },
      "execution_count": null,
      "outputs": []
    },
    {
      "cell_type": "code",
      "source": [
        "# Solicite ao usuário que digite uma temperatura em graus Celsius e converta-a para\n",
        "# A fórmula de conversão é: Fahremheit = Celsius * 9/5 + 32.\n",
        "\n",
        "celsius = int(input(\"Digite a temperatura em Celsius para converter: \"))\n",
        "fahrenheit = (celsius * 9/5) + 32\n",
        "print(\"%s Celsius é igual Fahrenheit %s\" % (celsius, int(fahrenheit)))"
      ],
      "metadata": {
        "colab": {
          "base_uri": "https://localhost:8080/"
        },
        "id": "MLK1v9E421su",
        "outputId": "782bfac0-f8b8-4c12-a3e6-75cd39adae20"
      },
      "execution_count": null,
      "outputs": [
        {
          "output_type": "stream",
          "name": "stdout",
          "text": [
            "Digite a temperatura em Celsius para converter: 28\n",
            "28 Celsius é igual Fahrenheit 82\n"
          ]
        }
      ]
    },
    {
      "cell_type": "code",
      "source": [
        "# Solicite ao usuário que digite uma palavra e exiba quantas letras essa palavra contém.\n",
        "\n",
        "palavra = input(\"Digite uma palavra \")\n",
        "\n",
        "quantidadedeLetras = len(palavra) #modelo len retorna a quantidade de letras em um texto\n",
        "print(\"Quantidade de letras\", quantidadedeLetras)\n"
      ],
      "metadata": {
        "id": "mH6fNKqP6Jcm"
      },
      "execution_count": null,
      "outputs": []
    },
    {
      "cell_type": "code",
      "source": [
        "# Exiba os números de 1 a 10 usando um loop.\n",
        "\n",
        "for index in range(10):\n",
        "  print(index + 1)"
      ],
      "metadata": {
        "colab": {
          "base_uri": "https://localhost:8080/"
        },
        "id": "cP3zNuDT8I_o",
        "outputId": "a4e15397-6073-415b-84b1-dffb9e3cc5b9"
      },
      "execution_count": 12,
      "outputs": [
        {
          "output_type": "stream",
          "name": "stdout",
          "text": [
            "1\n",
            "2\n",
            "3\n",
            "4\n",
            "5\n",
            "6\n",
            "7\n",
            "8\n",
            "9\n",
            "10\n"
          ]
        }
      ]
    },
    {
      "cell_type": "code",
      "source": [
        "# Escreva uma função em Python chamada \"verificar_primo\" que recebe um número como parâmetro e retorna True se o número for primo e False\n",
        "# Número primo somente é divisivel por ele e por 1\n",
        "\n",
        "def verificar_primo(numero):\n",
        "  if numero < 2:\n",
        "    return False\n",
        "\n",
        "  for divisor in range(2, int(numero / 2) + 1):\n",
        "      if numero % divisor == 0:\n",
        "        return False\n",
        "\n",
        "  return True\n",
        "\n",
        "\n",
        "numero = int(input(\"Digite um número: \"))\n",
        "if verificar_primo(numero):\n",
        "  print(\"Esse número é impar\")\n",
        "else:\n",
        "  print(\"Esse número NÃO é impar\")"
      ],
      "metadata": {
        "id": "UEp36muRGQan"
      },
      "execution_count": null,
      "outputs": []
    },
    {
      "cell_type": "code",
      "source": [
        "lista_alunos = [\"João\", \"Carlos\", \"Ana\", \"Andre\", \"Lucas\", \"Livia\"]\n",
        "\n",
        "print(\"Mostre João\")\n",
        "print(lista_alunos[1])"
      ],
      "metadata": {
        "colab": {
          "base_uri": "https://localhost:8080/"
        },
        "id": "-pmF6ZVLPPAS",
        "outputId": "0ab6e916-3f96-412a-d83b-d2cc98477025"
      },
      "execution_count": 27,
      "outputs": [
        {
          "output_type": "stream",
          "name": "stdout",
          "text": [
            "Mostre João\n",
            "Carlos\n"
          ]
        }
      ]
    },
    {
      "cell_type": "code",
      "source": [
        "# Quantos alunos eu tenho na lista\n",
        "\n",
        "quantidade_alunos = len(lista_alunos)\n",
        "print(quantidade_alunos)"
      ],
      "metadata": {
        "colab": {
          "base_uri": "https://localhost:8080/"
        },
        "id": "oqJjZ3YmSVRl",
        "outputId": "03179346-b62a-41c7-d188-e38449f7ab1b"
      },
      "execution_count": 28,
      "outputs": [
        {
          "output_type": "stream",
          "name": "stdout",
          "text": [
            "6\n"
          ]
        }
      ]
    },
    {
      "cell_type": "code",
      "source": [
        "#Quero adicionar o Douglas\n",
        "\n",
        "lista_alunos.append(\"Douglas\")\n",
        "print(lista_alunos)"
      ],
      "metadata": {
        "colab": {
          "base_uri": "https://localhost:8080/"
        },
        "id": "AOggcbiISr5L",
        "outputId": "63d84634-0c26-413f-d3c1-3c4e3f689bc9"
      },
      "execution_count": 29,
      "outputs": [
        {
          "output_type": "stream",
          "name": "stdout",
          "text": [
            "['João', 'Carlos', 'Ana', 'Andre', 'Lucas', 'Livia', 'Douglas']\n"
          ]
        }
      ]
    },
    {
      "cell_type": "code",
      "source": [
        "# Quero remover o Andre\n",
        "\n",
        "lista_alunos.remove(\"Andre\")\n",
        "print(lista_alunos)"
      ],
      "metadata": {
        "colab": {
          "base_uri": "https://localhost:8080/"
        },
        "id": "I0tMkJB8TA4l",
        "outputId": "38acdfbe-5300-4987-d33b-258589e274c3"
      },
      "execution_count": 30,
      "outputs": [
        {
          "output_type": "stream",
          "name": "stdout",
          "text": [
            "['João', 'Carlos', 'Ana', 'Lucas', 'Livia', 'Douglas']\n"
          ]
        }
      ]
    },
    {
      "cell_type": "code",
      "source": [
        "#Limpar o minha lista de alunos\n",
        "\n",
        "lista_alunos.clear()\n",
        "print(lista_alunos)"
      ],
      "metadata": {
        "id": "4JOLWH3dTbyG"
      },
      "execution_count": null,
      "outputs": []
    },
    {
      "cell_type": "code",
      "source": [
        "# Quero verificar se o aluno João está na lista\n",
        "\n",
        "if \"João\" in lista_alunos:\n",
        "  print(\"João está na lista\")\n",
        "else:\n",
        "  print(\"Aluno não está na lista\")"
      ],
      "metadata": {
        "colab": {
          "base_uri": "https://localhost:8080/"
        },
        "id": "Pg53_-YiULlJ",
        "outputId": "7d406840-eee0-4373-986b-eb86ed7b61d4"
      },
      "execution_count": 36,
      "outputs": [
        {
          "output_type": "stream",
          "name": "stdout",
          "text": [
            "Aluno não está na lista\n"
          ]
        }
      ]
    }
  ]
}